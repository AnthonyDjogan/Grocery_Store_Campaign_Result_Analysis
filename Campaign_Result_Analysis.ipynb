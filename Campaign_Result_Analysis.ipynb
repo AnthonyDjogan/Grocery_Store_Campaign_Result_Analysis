{
 "cells": [
  {
   "cell_type": "markdown",
   "metadata": {},
   "source": [
    "# Campaign Result Analysis\n",
    "\n",
    "In this campaign there are two groups: the control group and the test group. The test group consists of Mailer 1 and Mailer 2. Mailer 1 is a basic and cost-effective mail, while Mailer 2 is constructed with high-quality, colorful cardboard.\n",
    "\n",
    "We will conduct a two-step test for this analysis. First, we will use a chi-square test to assess if there is any association between the test group (Mailer 1 and Mailer 2) and the control group (Mailer 3) in terms of sign-up rate. Afterward, we will perform a z-test between Mailer 1 and Mailer 2 to determine if there is a significant difference in sign-up rates."
   ]
  },
  {
   "cell_type": "markdown",
   "metadata": {},
   "source": [
    "## Import library"
   ]
  },
  {
   "cell_type": "code",
   "execution_count": 30,
   "metadata": {},
   "outputs": [],
   "source": [
    "import pandas as pd\n",
    "import numpy as np\n",
    "import seaborn as sns\n",
    "import matplotlib.pyplot as plt\n",
    "\n",
    "from scipy.stats import chi2_contingency\n",
    "from statsmodels.stats.proportion import proportions_ztest"
   ]
  },
  {
   "cell_type": "markdown",
   "metadata": {},
   "source": [
    "## Load Data"
   ]
  },
  {
   "cell_type": "code",
   "execution_count": 2,
   "metadata": {},
   "outputs": [],
   "source": [
    "df_campaign_data = pd.read_excel('grocery_database.xlsx', sheet_name= 'campaign_data')"
   ]
  },
  {
   "cell_type": "code",
   "execution_count": 3,
   "metadata": {},
   "outputs": [
    {
     "data": {
      "text/html": [
       "<div>\n",
       "<style scoped>\n",
       "    .dataframe tbody tr th:only-of-type {\n",
       "        vertical-align: middle;\n",
       "    }\n",
       "\n",
       "    .dataframe tbody tr th {\n",
       "        vertical-align: top;\n",
       "    }\n",
       "\n",
       "    .dataframe thead th {\n",
       "        text-align: right;\n",
       "    }\n",
       "</style>\n",
       "<table border=\"1\" class=\"dataframe\">\n",
       "  <thead>\n",
       "    <tr style=\"text-align: right;\">\n",
       "      <th></th>\n",
       "      <th>customer_id</th>\n",
       "      <th>campaign_name</th>\n",
       "      <th>campaign_date</th>\n",
       "      <th>mailer_type</th>\n",
       "      <th>signup_flag</th>\n",
       "    </tr>\n",
       "  </thead>\n",
       "  <tbody>\n",
       "    <tr>\n",
       "      <th>0</th>\n",
       "      <td>74</td>\n",
       "      <td>delivery_club</td>\n",
       "      <td>2020-07-01</td>\n",
       "      <td>Mailer1</td>\n",
       "      <td>1</td>\n",
       "    </tr>\n",
       "    <tr>\n",
       "      <th>1</th>\n",
       "      <td>524</td>\n",
       "      <td>delivery_club</td>\n",
       "      <td>2020-07-01</td>\n",
       "      <td>Mailer1</td>\n",
       "      <td>1</td>\n",
       "    </tr>\n",
       "    <tr>\n",
       "      <th>2</th>\n",
       "      <td>607</td>\n",
       "      <td>delivery_club</td>\n",
       "      <td>2020-07-01</td>\n",
       "      <td>Mailer2</td>\n",
       "      <td>1</td>\n",
       "    </tr>\n",
       "    <tr>\n",
       "      <th>3</th>\n",
       "      <td>343</td>\n",
       "      <td>delivery_club</td>\n",
       "      <td>2020-07-01</td>\n",
       "      <td>Mailer1</td>\n",
       "      <td>0</td>\n",
       "    </tr>\n",
       "    <tr>\n",
       "      <th>4</th>\n",
       "      <td>322</td>\n",
       "      <td>delivery_club</td>\n",
       "      <td>2020-07-01</td>\n",
       "      <td>Mailer2</td>\n",
       "      <td>1</td>\n",
       "    </tr>\n",
       "  </tbody>\n",
       "</table>\n",
       "</div>"
      ],
      "text/plain": [
       "   customer_id  campaign_name campaign_date mailer_type  signup_flag\n",
       "0           74  delivery_club    2020-07-01     Mailer1            1\n",
       "1          524  delivery_club    2020-07-01     Mailer1            1\n",
       "2          607  delivery_club    2020-07-01     Mailer2            1\n",
       "3          343  delivery_club    2020-07-01     Mailer1            0\n",
       "4          322  delivery_club    2020-07-01     Mailer2            1"
      ]
     },
     "execution_count": 3,
     "metadata": {},
     "output_type": "execute_result"
    }
   ],
   "source": [
    "df_campaign_data.head()"
   ]
  },
  {
   "cell_type": "markdown",
   "metadata": {},
   "source": [
    "## Chi-Square Test"
   ]
  },
  {
   "cell_type": "code",
   "execution_count": 4,
   "metadata": {},
   "outputs": [],
   "source": [
    "Ho = 'There is no relationship between treatment group and sign-up rate, they are independent'\n",
    "Ha = 'There is a relationship between treatment group and sign-up rate, they are not independent'"
   ]
  },
  {
   "cell_type": "code",
   "execution_count": 5,
   "metadata": {},
   "outputs": [],
   "source": [
    "def Grouper(row):\n",
    "    if row['mailer_type'] == 'Mailer1' or row['mailer_type'] == 'Mailer2':\n",
    "        return 'Test'\n",
    "    else:\n",
    "        return 'Control'"
   ]
  },
  {
   "cell_type": "code",
   "execution_count": 6,
   "metadata": {},
   "outputs": [
    {
     "data": {
      "text/html": [
       "<div>\n",
       "<style scoped>\n",
       "    .dataframe tbody tr th:only-of-type {\n",
       "        vertical-align: middle;\n",
       "    }\n",
       "\n",
       "    .dataframe tbody tr th {\n",
       "        vertical-align: top;\n",
       "    }\n",
       "\n",
       "    .dataframe thead th {\n",
       "        text-align: right;\n",
       "    }\n",
       "</style>\n",
       "<table border=\"1\" class=\"dataframe\">\n",
       "  <thead>\n",
       "    <tr style=\"text-align: right;\">\n",
       "      <th></th>\n",
       "      <th>customer_id</th>\n",
       "      <th>campaign_name</th>\n",
       "      <th>campaign_date</th>\n",
       "      <th>mailer_type</th>\n",
       "      <th>signup_flag</th>\n",
       "      <th>Group</th>\n",
       "    </tr>\n",
       "  </thead>\n",
       "  <tbody>\n",
       "    <tr>\n",
       "      <th>0</th>\n",
       "      <td>74</td>\n",
       "      <td>delivery_club</td>\n",
       "      <td>2020-07-01</td>\n",
       "      <td>Mailer1</td>\n",
       "      <td>1</td>\n",
       "      <td>Test</td>\n",
       "    </tr>\n",
       "    <tr>\n",
       "      <th>1</th>\n",
       "      <td>524</td>\n",
       "      <td>delivery_club</td>\n",
       "      <td>2020-07-01</td>\n",
       "      <td>Mailer1</td>\n",
       "      <td>1</td>\n",
       "      <td>Test</td>\n",
       "    </tr>\n",
       "    <tr>\n",
       "      <th>2</th>\n",
       "      <td>607</td>\n",
       "      <td>delivery_club</td>\n",
       "      <td>2020-07-01</td>\n",
       "      <td>Mailer2</td>\n",
       "      <td>1</td>\n",
       "      <td>Test</td>\n",
       "    </tr>\n",
       "    <tr>\n",
       "      <th>3</th>\n",
       "      <td>343</td>\n",
       "      <td>delivery_club</td>\n",
       "      <td>2020-07-01</td>\n",
       "      <td>Mailer1</td>\n",
       "      <td>0</td>\n",
       "      <td>Test</td>\n",
       "    </tr>\n",
       "    <tr>\n",
       "      <th>4</th>\n",
       "      <td>322</td>\n",
       "      <td>delivery_club</td>\n",
       "      <td>2020-07-01</td>\n",
       "      <td>Mailer2</td>\n",
       "      <td>1</td>\n",
       "      <td>Test</td>\n",
       "    </tr>\n",
       "    <tr>\n",
       "      <th>...</th>\n",
       "      <td>...</td>\n",
       "      <td>...</td>\n",
       "      <td>...</td>\n",
       "      <td>...</td>\n",
       "      <td>...</td>\n",
       "      <td>...</td>\n",
       "    </tr>\n",
       "    <tr>\n",
       "      <th>865</th>\n",
       "      <td>372</td>\n",
       "      <td>delivery_club</td>\n",
       "      <td>2020-07-01</td>\n",
       "      <td>Mailer2</td>\n",
       "      <td>1</td>\n",
       "      <td>Test</td>\n",
       "    </tr>\n",
       "    <tr>\n",
       "      <th>866</th>\n",
       "      <td>104</td>\n",
       "      <td>delivery_club</td>\n",
       "      <td>2020-07-01</td>\n",
       "      <td>Mailer1</td>\n",
       "      <td>1</td>\n",
       "      <td>Test</td>\n",
       "    </tr>\n",
       "    <tr>\n",
       "      <th>867</th>\n",
       "      <td>393</td>\n",
       "      <td>delivery_club</td>\n",
       "      <td>2020-07-01</td>\n",
       "      <td>Mailer2</td>\n",
       "      <td>1</td>\n",
       "      <td>Test</td>\n",
       "    </tr>\n",
       "    <tr>\n",
       "      <th>868</th>\n",
       "      <td>373</td>\n",
       "      <td>delivery_club</td>\n",
       "      <td>2020-07-01</td>\n",
       "      <td>Control</td>\n",
       "      <td>0</td>\n",
       "      <td>Control</td>\n",
       "    </tr>\n",
       "    <tr>\n",
       "      <th>869</th>\n",
       "      <td>712</td>\n",
       "      <td>delivery_club</td>\n",
       "      <td>2020-07-01</td>\n",
       "      <td>Control</td>\n",
       "      <td>0</td>\n",
       "      <td>Control</td>\n",
       "    </tr>\n",
       "  </tbody>\n",
       "</table>\n",
       "<p>870 rows × 6 columns</p>\n",
       "</div>"
      ],
      "text/plain": [
       "     customer_id  campaign_name campaign_date mailer_type  signup_flag  \\\n",
       "0             74  delivery_club    2020-07-01     Mailer1            1   \n",
       "1            524  delivery_club    2020-07-01     Mailer1            1   \n",
       "2            607  delivery_club    2020-07-01     Mailer2            1   \n",
       "3            343  delivery_club    2020-07-01     Mailer1            0   \n",
       "4            322  delivery_club    2020-07-01     Mailer2            1   \n",
       "..           ...            ...           ...         ...          ...   \n",
       "865          372  delivery_club    2020-07-01     Mailer2            1   \n",
       "866          104  delivery_club    2020-07-01     Mailer1            1   \n",
       "867          393  delivery_club    2020-07-01     Mailer2            1   \n",
       "868          373  delivery_club    2020-07-01     Control            0   \n",
       "869          712  delivery_club    2020-07-01     Control            0   \n",
       "\n",
       "       Group  \n",
       "0       Test  \n",
       "1       Test  \n",
       "2       Test  \n",
       "3       Test  \n",
       "4       Test  \n",
       "..       ...  \n",
       "865     Test  \n",
       "866     Test  \n",
       "867     Test  \n",
       "868  Control  \n",
       "869  Control  \n",
       "\n",
       "[870 rows x 6 columns]"
      ]
     },
     "execution_count": 6,
     "metadata": {},
     "output_type": "execute_result"
    }
   ],
   "source": [
    "df_campaign_data['Group'] = df_campaign_data.apply(Grouper, axis= 1)\n",
    "df_campaign_data"
   ]
  },
  {
   "cell_type": "code",
   "execution_count": 7,
   "metadata": {},
   "outputs": [
    {
     "data": {
      "text/html": [
       "<div>\n",
       "<style scoped>\n",
       "    .dataframe tbody tr th:only-of-type {\n",
       "        vertical-align: middle;\n",
       "    }\n",
       "\n",
       "    .dataframe tbody tr th {\n",
       "        vertical-align: top;\n",
       "    }\n",
       "\n",
       "    .dataframe thead th {\n",
       "        text-align: right;\n",
       "    }\n",
       "</style>\n",
       "<table border=\"1\" class=\"dataframe\">\n",
       "  <thead>\n",
       "    <tr style=\"text-align: right;\">\n",
       "      <th>signup_flag</th>\n",
       "      <th>0</th>\n",
       "      <th>1</th>\n",
       "      <th>Total</th>\n",
       "    </tr>\n",
       "    <tr>\n",
       "      <th>Group</th>\n",
       "      <th></th>\n",
       "      <th></th>\n",
       "      <th></th>\n",
       "    </tr>\n",
       "  </thead>\n",
       "  <tbody>\n",
       "    <tr>\n",
       "      <th>Control</th>\n",
       "      <td>140</td>\n",
       "      <td>19</td>\n",
       "      <td>159</td>\n",
       "    </tr>\n",
       "    <tr>\n",
       "      <th>Test</th>\n",
       "      <td>461</td>\n",
       "      <td>250</td>\n",
       "      <td>711</td>\n",
       "    </tr>\n",
       "    <tr>\n",
       "      <th>Total</th>\n",
       "      <td>601</td>\n",
       "      <td>269</td>\n",
       "      <td>870</td>\n",
       "    </tr>\n",
       "  </tbody>\n",
       "</table>\n",
       "</div>"
      ],
      "text/plain": [
       "signup_flag    0    1  Total\n",
       "Group                       \n",
       "Control      140   19    159\n",
       "Test         461  250    711\n",
       "Total        601  269    870"
      ]
     },
     "execution_count": 7,
     "metadata": {},
     "output_type": "execute_result"
    }
   ],
   "source": [
    "treatment_pivot = df_campaign_data.pivot_table(\n",
    "    columns= 'signup_flag',\n",
    "    index= 'Group',\n",
    "    aggfunc= 'size'\n",
    ")\n",
    "\n",
    "treatment_pivot['Total'] = treatment_pivot.sum(axis= 1)\n",
    "treatment_pivot.loc['Total'] = treatment_pivot.sum(axis= 0)\n",
    "\n",
    "treatment_pivot"
   ]
  },
  {
   "cell_type": "code",
   "execution_count": 8,
   "metadata": {},
   "outputs": [
    {
     "name": "stdout",
     "output_type": "stream",
     "text": [
      "Control sign-up rate : 11.95%\n",
      "Test sign-up rate    : 35.16%\n",
      "\n"
     ]
    }
   ],
   "source": [
    "print(f'''Control sign-up rate : {round((19 / 159) * 100, 2)}%\n",
    "Test sign-up rate    : {round((250/711) * 100, 2)}%\n",
    "''')"
   ]
  },
  {
   "cell_type": "code",
   "execution_count": 10,
   "metadata": {},
   "outputs": [
    {
     "data": {
      "text/html": [
       "<div>\n",
       "<style scoped>\n",
       "    .dataframe tbody tr th:only-of-type {\n",
       "        vertical-align: middle;\n",
       "    }\n",
       "\n",
       "    .dataframe tbody tr th {\n",
       "        vertical-align: top;\n",
       "    }\n",
       "\n",
       "    .dataframe thead th {\n",
       "        text-align: right;\n",
       "    }\n",
       "</style>\n",
       "<table border=\"1\" class=\"dataframe\">\n",
       "  <thead>\n",
       "    <tr style=\"text-align: right;\">\n",
       "      <th>signup_flag</th>\n",
       "      <th>0</th>\n",
       "      <th>1</th>\n",
       "    </tr>\n",
       "    <tr>\n",
       "      <th>Group</th>\n",
       "      <th></th>\n",
       "      <th></th>\n",
       "    </tr>\n",
       "  </thead>\n",
       "  <tbody>\n",
       "    <tr>\n",
       "      <th>Control</th>\n",
       "      <td>140</td>\n",
       "      <td>19</td>\n",
       "    </tr>\n",
       "    <tr>\n",
       "      <th>Test</th>\n",
       "      <td>461</td>\n",
       "      <td>250</td>\n",
       "    </tr>\n",
       "  </tbody>\n",
       "</table>\n",
       "</div>"
      ],
      "text/plain": [
       "signup_flag    0    1\n",
       "Group                \n",
       "Control      140   19\n",
       "Test         461  250"
      ]
     },
     "execution_count": 10,
     "metadata": {},
     "output_type": "execute_result"
    }
   ],
   "source": [
    "treatment_pivot.iloc[:2, :2]"
   ]
  },
  {
   "cell_type": "code",
   "execution_count": 11,
   "metadata": {},
   "outputs": [
    {
     "data": {
      "text/plain": [
       "1.79868789769882e-08"
      ]
     },
     "execution_count": 11,
     "metadata": {},
     "output_type": "execute_result"
    }
   ],
   "source": [
    "stat, pvalue, dof, expected = chi2_contingency(treatment_pivot.iloc[:2, :2])\n",
    "pvalue"
   ]
  },
  {
   "cell_type": "code",
   "execution_count": 24,
   "metadata": {},
   "outputs": [],
   "source": [
    "def display_result(pvalue, Ho, Ha):\n",
    "    if pvalue > 0.05:\n",
    "        print(f'''pvalue = {pvalue} \\n{Ho}\n",
    "    ''')\n",
    "    else:\n",
    "        print(f'''pvalue = {pvalue}\\n{Ha}\n",
    "    ''')"
   ]
  },
  {
   "cell_type": "code",
   "execution_count": 25,
   "metadata": {},
   "outputs": [
    {
     "name": "stdout",
     "output_type": "stream",
     "text": [
      "pvalue = 1.79868789769882e-08\n",
      "There is a relationship between treatment group and sign-up rate, they are not independent\n",
      "    \n"
     ]
    }
   ],
   "source": [
    "display_result(pvalue, Ho, Ha)"
   ]
  },
  {
   "cell_type": "markdown",
   "metadata": {},
   "source": [
    "## Z-Test\n",
    "From the chi-square test we know that treatment and sign-up rate is not independent, so we can proceed to the second test to see if there is any significant difference between mailer."
   ]
  },
  {
   "cell_type": "code",
   "execution_count": 26,
   "metadata": {},
   "outputs": [],
   "source": [
    "Ho = 'There is no significant difference in sign-up rates between Mailer1 and Mailer2'\n",
    "Ha = 'Sign-up rates of Mailer2 is larger than Mailer1'"
   ]
  },
  {
   "cell_type": "code",
   "execution_count": 27,
   "metadata": {},
   "outputs": [
    {
     "data": {
      "text/html": [
       "<div>\n",
       "<style scoped>\n",
       "    .dataframe tbody tr th:only-of-type {\n",
       "        vertical-align: middle;\n",
       "    }\n",
       "\n",
       "    .dataframe tbody tr th {\n",
       "        vertical-align: top;\n",
       "    }\n",
       "\n",
       "    .dataframe thead th {\n",
       "        text-align: right;\n",
       "    }\n",
       "</style>\n",
       "<table border=\"1\" class=\"dataframe\">\n",
       "  <thead>\n",
       "    <tr style=\"text-align: right;\">\n",
       "      <th>signup_flag</th>\n",
       "      <th>0</th>\n",
       "      <th>1</th>\n",
       "      <th>Total</th>\n",
       "    </tr>\n",
       "    <tr>\n",
       "      <th>mailer_type</th>\n",
       "      <th></th>\n",
       "      <th></th>\n",
       "      <th></th>\n",
       "    </tr>\n",
       "  </thead>\n",
       "  <tbody>\n",
       "    <tr>\n",
       "      <th>Mailer1</th>\n",
       "      <td>252</td>\n",
       "      <td>123</td>\n",
       "      <td>375</td>\n",
       "    </tr>\n",
       "    <tr>\n",
       "      <th>Mailer2</th>\n",
       "      <td>209</td>\n",
       "      <td>127</td>\n",
       "      <td>336</td>\n",
       "    </tr>\n",
       "    <tr>\n",
       "      <th>Total</th>\n",
       "      <td>461</td>\n",
       "      <td>250</td>\n",
       "      <td>711</td>\n",
       "    </tr>\n",
       "  </tbody>\n",
       "</table>\n",
       "</div>"
      ],
      "text/plain": [
       "signup_flag    0    1  Total\n",
       "mailer_type                 \n",
       "Mailer1      252  123    375\n",
       "Mailer2      209  127    336\n",
       "Total        461  250    711"
      ]
     },
     "execution_count": 27,
     "metadata": {},
     "output_type": "execute_result"
    }
   ],
   "source": [
    "mailer_pivot = df_campaign_data.loc[df_campaign_data['mailer_type'] != 'Control'].pivot_table(\n",
    "    columns= 'signup_flag',\n",
    "    index= 'mailer_type',\n",
    "    aggfunc= 'size'\n",
    ")\n",
    "\n",
    "mailer_pivot['Total'] = mailer_pivot.sum(axis= 1)\n",
    "mailer_pivot.loc['Total'] = mailer_pivot.sum(axis= 0)\n",
    "\n",
    "mailer_pivot"
   ]
  },
  {
   "cell_type": "code",
   "execution_count": 28,
   "metadata": {},
   "outputs": [
    {
     "name": "stdout",
     "output_type": "stream",
     "text": [
      "Mailer1 sign-up rate : 32.8%\n",
      "Mailer2 sign-up rate : 37.8%\n",
      "\n"
     ]
    }
   ],
   "source": [
    "m1_signup = mailer_pivot.loc['Mailer1', 1]\n",
    "m2_signup = mailer_pivot.loc['Mailer2', 1]\n",
    "m1_total = mailer_pivot.loc['Mailer1', 'Total']\n",
    "m2_total = mailer_pivot.loc['Mailer2', 'Total']\n",
    "\n",
    "print(f'''Mailer1 sign-up rate : {round((m1_signup / m1_total) * 100, 2)}%\n",
    "Mailer2 sign-up rate : {round((m2_signup / m2_total) * 100, 2)}%\n",
    "''')"
   ]
  },
  {
   "cell_type": "code",
   "execution_count": 31,
   "metadata": {},
   "outputs": [
    {
     "data": {
      "text/plain": [
       "0.08175576111699284"
      ]
     },
     "execution_count": 31,
     "metadata": {},
     "output_type": "execute_result"
    }
   ],
   "source": [
    "stat, pvalue = proportions_ztest(\n",
    "    count= [m2_signup, m1_signup],\n",
    "    nobs= [m2_total, m1_total],\n",
    "    alternative= 'larger'\n",
    ")\n",
    "\n",
    "pvalue"
   ]
  },
  {
   "cell_type": "code",
   "execution_count": 32,
   "metadata": {},
   "outputs": [
    {
     "name": "stdout",
     "output_type": "stream",
     "text": [
      "pvalue = 0.08175576111699284 \n",
      "There is no significant difference in sign-up rates between Mailer1 and Mailer2\n",
      "    \n"
     ]
    }
   ],
   "source": [
    "display_result(pvalue, Ho, Ha)"
   ]
  },
  {
   "cell_type": "markdown",
   "metadata": {},
   "source": [
    "## AB Testing Conclusion\n",
    "\n",
    "From AB Testing we can conclude that the campaign is succesfully increase the sign-up rate, but we can not proof that there is a significant difference between the sign-up rate of Mailer 1 and Mailer 2."
   ]
  },
  {
   "cell_type": "markdown",
   "metadata": {},
   "source": [
    "## Recomendation\n",
    "\n",
    "It is more benneficial to use Mailer 1, not only because it is more cost effective but also because there is no significant difference in sign-up rates between Mailer 1 and Mailer 2"
   ]
  },
  {
   "cell_type": "code",
   "execution_count": null,
   "metadata": {},
   "outputs": [],
   "source": []
  },
  {
   "cell_type": "code",
   "execution_count": null,
   "metadata": {},
   "outputs": [],
   "source": []
  },
  {
   "cell_type": "code",
   "execution_count": null,
   "metadata": {},
   "outputs": [],
   "source": []
  },
  {
   "cell_type": "code",
   "execution_count": null,
   "metadata": {},
   "outputs": [],
   "source": []
  },
  {
   "cell_type": "code",
   "execution_count": null,
   "metadata": {},
   "outputs": [],
   "source": []
  }
 ],
 "metadata": {
  "kernelspec": {
   "display_name": "base",
   "language": "python",
   "name": "python3"
  },
  "language_info": {
   "codemirror_mode": {
    "name": "ipython",
    "version": 3
   },
   "file_extension": ".py",
   "mimetype": "text/x-python",
   "name": "python",
   "nbconvert_exporter": "python",
   "pygments_lexer": "ipython3",
   "version": "3.9.13"
  }
 },
 "nbformat": 4,
 "nbformat_minor": 2
}
